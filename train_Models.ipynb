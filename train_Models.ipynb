{
 "cells": [
  {
   "cell_type": "code",
   "execution_count": 3,
   "metadata": {
    "ExecuteTime": {
     "end_time": "2024-06-20T14:15:26.147042Z",
     "start_time": "2024-06-20T14:15:26.144212Z"
    }
   },
   "outputs": [],
   "source": [
    "import pandas as pd\n",
    "import os"
   ]
  },
  {
   "cell_type": "code",
   "execution_count": 4,
   "metadata": {
    "ExecuteTime": {
     "end_time": "2024-06-20T14:15:27.413506Z",
     "start_time": "2024-06-20T14:15:27.408498Z"
    }
   },
   "outputs": [
    {
     "data": {
      "text/plain": "'hello'"
     },
     "execution_count": 4,
     "metadata": {},
     "output_type": "execute_result"
    }
   ],
   "source": [
    "\"hello\""
   ]
  },
  {
   "cell_type": "code",
   "execution_count": 5,
   "metadata": {
    "ExecuteTime": {
     "end_time": "2024-06-20T14:15:28.399004Z",
     "start_time": "2024-06-20T14:15:28.316625Z"
    }
   },
   "outputs": [],
   "source": [
    "path = os.path.abspath('')\n",
    "path = path + \"/engineered_data_250ms_window80_step8.csv\"\n",
    "df = pd.read_csv(path)\n",
    "\n",
    "diction = {'Dany':0, 'Felix':1, 'Julian':2, 'Mark':3,'Martin':4,'Michele':5,'Paul':6}\n",
    "\n",
    "for index,row in df['Participant'].items():\n",
    "    df.loc[index,'Participant'] = diction[row]"
   ]
  },
  {
   "cell_type": "markdown",
   "source": [
    "## Transform/optimize dataset before training"
   ],
   "metadata": {
    "collapsed": false
   }
  },
  {
   "cell_type": "code",
   "outputs": [
    {
     "data": {
      "text/plain": "'\\n# Display the transformed data to verify changes\\nprint(\"\\nTransformed Data Sample:\")\\nprint(df_transformed.sample(3))\\n\\n# Display unique values in the \\'Path\\' column to ensure transformation is correct\\nprint(\"\\nUnique values in the \\'Path\\' column after transformation:\")\\nprint(df_transformed[\\'Path\\'].unique())\\n'"
     },
     "execution_count": 9,
     "metadata": {},
     "output_type": "execute_result"
    }
   ],
   "source": [
    "'''\n",
    "# Display the first few rows to understand the initial structure\n",
    "print(\"Initial Data Sample:\")\n",
    "print(df.head())\n",
    "'''\n",
    "\n",
    "# Transform 'Path' column in df to binary format for further analysis\n",
    "def transform_path_column(data_frame):\n",
    "    \"\"\"\n",
    "    Converts the 'Path' column from categorical to binary.\n",
    "    Args:\n",
    "    data_frame (DataFrame): The pandas DataFrame to transform.\n",
    "    \n",
    "    Returns:\n",
    "    DataFrame: A DataFrame with the 'Path' column transformed to binary values.\n",
    "    \"\"\"\n",
    "    data_frame.loc[data_frame['Path'] == 'circle', 'Path'] = 1\n",
    "    data_frame.loc[data_frame['Path'] == 'straight', 'Path'] = 0\n",
    "    return data_frame\n",
    "\n",
    "# Applying the transformation to the DataFrame\n",
    "df_transformed = df.copy()  # Create a copy of the DataFrame to maintain the original data\n",
    "df_transformed = transform_path_column(df_transformed)\n",
    "\n",
    "'''\n",
    "# Display the transformed data to verify changes\n",
    "print(\"\\nTransformed Data Sample:\")\n",
    "print(df_transformed.sample(3))\n",
    "\n",
    "# Display unique values in the 'Path' column to ensure transformation is correct\n",
    "print(\"\\nUnique values in the 'Path' column after transformation:\")\n",
    "print(df_transformed['Path'].unique())\n",
    "'''"
   ],
   "metadata": {
    "collapsed": false,
    "ExecuteTime": {
     "end_time": "2024-06-20T15:34:59.007894Z",
     "start_time": "2024-06-20T15:34:58.996862Z"
    }
   },
   "execution_count": 9
  },
  {
   "cell_type": "code",
   "outputs": [],
   "source": [],
   "metadata": {
    "collapsed": false
   }
  },
  {
   "cell_type": "code",
   "execution_count": 60,
   "metadata": {},
   "outputs": [],
   "source": [
    "    #create train/test set\n",
    "\n",
    "#should maybe do random runs in the future\n",
    "# select a random participant, path and run\n",
    "# Randomly select a participant\n",
    "participant = np.random.choice(engineered_df['Participant'].unique())\n",
    "\n",
    "# Filter DataFrame for the selected participant and get unique paths they took\n",
    "filtered_df_by_participant = engineered_df[engineered_df['Participant'] == participant]\n",
    "path = np.random.choice(filtered_df_by_participant['Path'].unique())\n",
    "\n",
    "# Filter DataFrame for the selected participant and path to get valid runs\n",
    "filtered_df_by_participant_and_path = filtered_df_by_participant[filtered_df_by_participant['Path'] == path]\n",
    "run = np.random.choice(filtered_df_by_participant_and_path['Run'].unique())\n",
    "\n",
    "\n",
    "X_Train = df[df['Run'] < 4].copy()\n",
    "X_Train\n",
    "X_Test = df[df['Run'] == 4].copy()\n",
    "\n",
    "Y_Train = X_Train['Participant'].copy()\n",
    "\n",
    "Y_Test = X_Test['Participant'].copy()\n",
    "X_Test.drop(['Participant'],axis=1,inplace=True)\n",
    "X_Train.drop(['Participant'],axis=1,inplace=True)\n",
    "X_Train[X_Train['Path'] == 'circle'] = 1\n",
    "X_Train\n",
    "X_Train[X_Train['Path'] == 'straight'] = 0\n",
    "X_Test[X_Test['Path'] == 'circle'] = 1\n",
    "X_Train\n",
    "X_Test[X_Test['Path'] == 'straight'] = 0\n"
   ]
  },
  {
   "cell_type": "code",
   "execution_count": 32,
   "metadata": {},
   "outputs": [
    {
     "name": "stdout",
     "output_type": "stream",
     "text": [
      "['Dany' 'Dany' 'Dany' 'Dany' 'Dany' 'Dany' 'Dany' 'Dany' 'Dany' 'Dany'\n",
      " 'Dany' 'Dany' 'Dany' 'Dany' 'Dany' 'Dany' 'Dany' 'Dany' 'Dany' 'Dany'\n",
      " 'Dany' 'Dany' 'Dany' 'Dany' 'Dany' 'Julian' 'Julian' 'Julian' 'Julian'\n",
      " 'Julian' 'Julian' 'Julian' 'Julian' 'Julian' 'Julian' 'Julian' 'Julian'\n",
      " 'Julian' 'Julian' 'Julian' 'Julian' 'Julian' 'Julian' 'Julian' 'Julian'\n",
      " 'Julian' 'Julian' 'Julian' 'Julian' 'Julian' 'Julian' 'Julian' 'Julian'\n",
      " 'Julian' 'Julian' 'Julian' 'Julian' 'Julian' 'Julian' 'Julian' 'Julian'\n",
      " 'Julian' 'Dany' 'Dany' 'Dany' 'Dany' 'Dany' 'Dany' 'Dany' 'Dany' 'Dany'\n",
      " 'Dany' 'Dany' 'Dany' 'Dany' 'Dany' 'Dany' 'Dany' 'Dany' 'Dany' 'Julian'\n",
      " 'Julian' 'Julian' 'Julian' 'Julian' 'Julian' 'Julian' 'Julian' 'Julian'\n",
      " 'Julian' 'Julian' 'Julian' 'Julian' 'Julian' 'Julian' 'Julian' 'Julian'\n",
      " 'Julian' 'Julian' 'Julian' 'Julian' 'Julian' 'Julian' 'Julian' 'Julian'\n",
      " 'Julian' 'Julian' 'Julian' 'Julian' 'Julian' 'Julian' 'Julian' 'Julian'\n",
      " 'Julian' 'Julian' 'Dany' 'Dany' 'Dany' 'Dany' 'Julian' 'Julian' 'Julian'\n",
      " 'Julian' 'Julian' 'Julian' 'Julian' 'Julian' 'Julian' 'Julian' 'Julian'\n",
      " 'Julian' 'Julian' 'Julian' 'Julian' 'Julian' 'Julian' 'Julian' 'Julian'\n",
      " 'Julian' 'Julian' 'Julian' 'Julian' 'Julian' 'Julian' 'Julian' 'Julian'\n",
      " 'Julian' 'Julian' 'Julian' 'Julian' 'Dany' 'Dany' 'Dany' 'Dany' 'Dany'\n",
      " 'Dany' 'Dany' 'Dany' 'Dany' 'Dany' 'Julian' 'Julian' 'Julian' 'Julian'\n",
      " 'Julian' 'Julian' 'Julian' 'Julian' 'Julian' 'Julian' 'Julian' 'Julian'\n",
      " 'Julian' 'Julian' 'Julian' 'Julian' 'Julian' 'Julian' 'Julian' 'Julian'\n",
      " 'Julian' 'Julian' 'Julian' 'Julian' 'Julian' 'Dany' 'Dany' 'Dany' 'Dany'\n",
      " 'Dany' 'Dany' 'Dany' 'Dany' 'Dany' 'Dany' 'Dany' 'Dany' 'Dany' 'Julian'\n",
      " 'Julian' 'Julian' 'Julian' 'Julian' 'Julian' 'Julian' 'Julian' 'Julian'\n",
      " 'Julian' 'Julian' 'Julian' 'Julian' 'Julian' 'Julian' 'Julian' 'Julian'\n",
      " 'Julian' 'Julian' 'Julian' 'Julian' 'Julian' 'Julian' 'Julian' 'Julian'\n",
      " 'Julian' 'Dany' 'Dany' 'Dany' 'Dany' 'Dany' 'Dany' 'Dany' 'Dany' 'Julian'\n",
      " 'Julian' 'Julian' 'Julian' 'Julian' 'Julian' 'Julian' 'Julian' 'Julian'\n",
      " 'Julian' 'Julian' 'Julian' 'Julian' 'Julian' 'Julian' 'Julian' 'Julian'\n",
      " 'Julian' 'Julian' 'Julian' 'Julian' 'Julian' 'Julian' 'Julian' 'Julian'\n",
      " 'Julian' 'Julian' 'Julian' 'Julian' 'Julian' 'Julian' 'Dany' 'Dany'\n",
      " 'Dany' 'Dany' 'Dany' 'Dany' 'Dany' 'Dany' 'Dany' 'Dany' 'Dany' 'Dany'\n",
      " 'Dany' 'Dany' 'Dany' 'Dany' 'Dany' 'Dany' 'Dany' 'Dany' 'Dany' 'Dany'\n",
      " 'Dany' 'Dany']\n"
     ]
    }
   ],
   "source": [
    "from sklearn import svm\n",
    "#rbf = svm.SVC(kernel='rbf', gamma=0.5, C=0.1).fit(X_train, y_train)\n",
    "clf = svm.SVC(kernel='rbf',gamma=0.5,C=0.1)\n",
    "poly = svm.SVC(kernel='poly', degree=10, C=1)\n",
    "clf.fit(X_Train,Y_Train)\n",
    "poly.fit(X_Train,Y_Train)\n",
    "y_pred = clf.predict(X_Test)\n",
    "y_pred_poly = poly.predict(X_Test)\n",
    "print(y_pred)"
   ]
  },
  {
   "cell_type": "code",
   "execution_count": 11,
   "metadata": {},
   "outputs": [
    {
     "name": "stdout",
     "output_type": "stream",
     "text": [
      "Accuracy: 0.1951219512195122\n",
      "Accuracy: 0.1951219512195122\n"
     ]
    }
   ],
   "source": [
    "from sklearn import metrics\n",
    "print(\"Accuracy:\",metrics.accuracy_score(Y_Test , y_pred))\n",
    "print(\"Accuracy:\",metrics.accuracy_score(Y_Test , y_pred_poly))\n"
   ]
  },
  {
   "cell_type": "code",
   "execution_count": 42,
   "metadata": {},
   "outputs": [
    {
     "data": {
      "text/plain": [
       "0       0\n",
       "1       0\n",
       "2       0\n",
       "3       0\n",
       "4       0\n",
       "       ..\n",
       "1301    6\n",
       "1302    6\n",
       "1303    6\n",
       "1304    6\n",
       "1305    6\n",
       "Name: Participant, Length: 1019, dtype: int64"
      ]
     },
     "execution_count": 42,
     "metadata": {},
     "output_type": "execute_result"
    }
   ],
   "source": []
  },
  {
   "cell_type": "code",
   "execution_count": 62,
   "metadata": {},
   "outputs": [],
   "source": [
    "\n",
    "X_Train.dtypes\n",
    "X_Train.drop('Path',axis=1,inplace=True)\n",
    "X_Test.drop('Path',axis=1,inplace=True)"
   ]
  },
  {
   "cell_type": "code",
   "execution_count": 68,
   "metadata": {},
   "outputs": [
    {
     "name": "stdout",
     "output_type": "stream",
     "text": [
      "Accuracy: 0.1951219512195122\n"
     ]
    }
   ],
   "source": [
    "\n",
    "\n",
    "from xgboost import XGBClassifier\n",
    "model = XGBClassifier(tree_method = 'hist',objective='multi:softprob')\n",
    "model.fit(X_Train,Y_Train)\n",
    "y_pred = model.predict(X_Test)\n",
    "Y_Test = Y_Test.astype('int')\n",
    "print(\"Accuracy:\",metrics.accuracy_score(Y_Test , y_pred))\n"
   ]
  }
 ],
 "metadata": {
  "kernelspec": {
   "display_name": "Python 3",
   "language": "python",
   "name": "python3"
  },
  "language_info": {
   "codemirror_mode": {
    "name": "ipython",
    "version": 3
   },
   "file_extension": ".py",
   "mimetype": "text/x-python",
   "name": "python",
   "nbconvert_exporter": "python",
   "pygments_lexer": "ipython3",
   "version": "3.10.12"
  }
 },
 "nbformat": 4,
 "nbformat_minor": 2
}
