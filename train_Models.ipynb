{
 "cells": [
  {
   "cell_type": "code",
   "execution_count": 8,
   "metadata": {},
   "outputs": [],
   "source": [
    "import pandas as pd\n",
    "import os"
   ]
  },
  {
   "cell_type": "code",
   "execution_count": null,
   "metadata": {},
   "outputs": [],
   "source": [
    "\"hello\""
   ]
  },
  {
   "cell_type": "code",
   "execution_count": 59,
   "metadata": {},
   "outputs": [],
   "source": [
    "path = os.path.abspath('')\n",
    "path = path + \"/engineered_data_250ms_window80_step8.csv\"\n",
    "df = pd.read_csv(path)\n",
    "\n",
    "diction = {'Dany':0, 'Felix':1, 'Julian':2, 'Mark':3,'Martin':4,'Michele':5,'Paul':6}\n",
    "\n",
    "for index,row in df['Participant'].items():\n",
    "    df.loc[index,'Participant'] = diction[row]"
   ]
  },
  {
   "cell_type": "code",
   "execution_count": 60,
   "metadata": {},
   "outputs": [],
   "source": [
    "#create train/test set\n",
    "#should maybe do random runs in the future\n",
    "\n",
    "X_Train = df[df['Run'] < 4].copy()\n",
    "X_Train\n",
    "X_Test = df[df['Run'] == 4].copy()\n",
    "\n",
    "Y_Train = X_Train['Participant'].copy()\n",
    "\n",
    "Y_Test = X_Test['Participant'].copy()\n",
    "X_Test.drop(['Participant'],axis=1,inplace=True)\n",
    "X_Train.drop(['Participant'],axis=1,inplace=True)\n",
    "X_Train[X_Train['Path'] == 'circle'] = 1\n",
    "X_Train\n",
    "X_Train[X_Train['Path'] == 'straight'] = 0\n",
    "X_Test[X_Test['Path'] == 'circle'] = 1\n",
    "X_Train\n",
    "X_Test[X_Test['Path'] == 'straight'] = 0\n"
   ]
  },
  {
   "cell_type": "code",
   "execution_count": 32,
   "metadata": {},
   "outputs": [
    {
     "name": "stdout",
     "output_type": "stream",
     "text": [
      "['Dany' 'Dany' 'Dany' 'Dany' 'Dany' 'Dany' 'Dany' 'Dany' 'Dany' 'Dany'\n",
      " 'Dany' 'Dany' 'Dany' 'Dany' 'Dany' 'Dany' 'Dany' 'Dany' 'Dany' 'Dany'\n",
      " 'Dany' 'Dany' 'Dany' 'Dany' 'Dany' 'Julian' 'Julian' 'Julian' 'Julian'\n",
      " 'Julian' 'Julian' 'Julian' 'Julian' 'Julian' 'Julian' 'Julian' 'Julian'\n",
      " 'Julian' 'Julian' 'Julian' 'Julian' 'Julian' 'Julian' 'Julian' 'Julian'\n",
      " 'Julian' 'Julian' 'Julian' 'Julian' 'Julian' 'Julian' 'Julian' 'Julian'\n",
      " 'Julian' 'Julian' 'Julian' 'Julian' 'Julian' 'Julian' 'Julian' 'Julian'\n",
      " 'Julian' 'Dany' 'Dany' 'Dany' 'Dany' 'Dany' 'Dany' 'Dany' 'Dany' 'Dany'\n",
      " 'Dany' 'Dany' 'Dany' 'Dany' 'Dany' 'Dany' 'Dany' 'Dany' 'Dany' 'Julian'\n",
      " 'Julian' 'Julian' 'Julian' 'Julian' 'Julian' 'Julian' 'Julian' 'Julian'\n",
      " 'Julian' 'Julian' 'Julian' 'Julian' 'Julian' 'Julian' 'Julian' 'Julian'\n",
      " 'Julian' 'Julian' 'Julian' 'Julian' 'Julian' 'Julian' 'Julian' 'Julian'\n",
      " 'Julian' 'Julian' 'Julian' 'Julian' 'Julian' 'Julian' 'Julian' 'Julian'\n",
      " 'Julian' 'Julian' 'Dany' 'Dany' 'Dany' 'Dany' 'Julian' 'Julian' 'Julian'\n",
      " 'Julian' 'Julian' 'Julian' 'Julian' 'Julian' 'Julian' 'Julian' 'Julian'\n",
      " 'Julian' 'Julian' 'Julian' 'Julian' 'Julian' 'Julian' 'Julian' 'Julian'\n",
      " 'Julian' 'Julian' 'Julian' 'Julian' 'Julian' 'Julian' 'Julian' 'Julian'\n",
      " 'Julian' 'Julian' 'Julian' 'Julian' 'Dany' 'Dany' 'Dany' 'Dany' 'Dany'\n",
      " 'Dany' 'Dany' 'Dany' 'Dany' 'Dany' 'Julian' 'Julian' 'Julian' 'Julian'\n",
      " 'Julian' 'Julian' 'Julian' 'Julian' 'Julian' 'Julian' 'Julian' 'Julian'\n",
      " 'Julian' 'Julian' 'Julian' 'Julian' 'Julian' 'Julian' 'Julian' 'Julian'\n",
      " 'Julian' 'Julian' 'Julian' 'Julian' 'Julian' 'Dany' 'Dany' 'Dany' 'Dany'\n",
      " 'Dany' 'Dany' 'Dany' 'Dany' 'Dany' 'Dany' 'Dany' 'Dany' 'Dany' 'Julian'\n",
      " 'Julian' 'Julian' 'Julian' 'Julian' 'Julian' 'Julian' 'Julian' 'Julian'\n",
      " 'Julian' 'Julian' 'Julian' 'Julian' 'Julian' 'Julian' 'Julian' 'Julian'\n",
      " 'Julian' 'Julian' 'Julian' 'Julian' 'Julian' 'Julian' 'Julian' 'Julian'\n",
      " 'Julian' 'Dany' 'Dany' 'Dany' 'Dany' 'Dany' 'Dany' 'Dany' 'Dany' 'Julian'\n",
      " 'Julian' 'Julian' 'Julian' 'Julian' 'Julian' 'Julian' 'Julian' 'Julian'\n",
      " 'Julian' 'Julian' 'Julian' 'Julian' 'Julian' 'Julian' 'Julian' 'Julian'\n",
      " 'Julian' 'Julian' 'Julian' 'Julian' 'Julian' 'Julian' 'Julian' 'Julian'\n",
      " 'Julian' 'Julian' 'Julian' 'Julian' 'Julian' 'Julian' 'Dany' 'Dany'\n",
      " 'Dany' 'Dany' 'Dany' 'Dany' 'Dany' 'Dany' 'Dany' 'Dany' 'Dany' 'Dany'\n",
      " 'Dany' 'Dany' 'Dany' 'Dany' 'Dany' 'Dany' 'Dany' 'Dany' 'Dany' 'Dany'\n",
      " 'Dany' 'Dany']\n"
     ]
    }
   ],
   "source": [
    "from sklearn import svm\n",
    "#rbf = svm.SVC(kernel='rbf', gamma=0.5, C=0.1).fit(X_train, y_train)\n",
    "clf = svm.SVC(kernel='rbf',gamma=0.5,C=0.1)\n",
    "poly = svm.SVC(kernel='poly', degree=10, C=1)\n",
    "clf.fit(X_Train,Y_Train)\n",
    "poly.fit(X_Train,Y_Train)\n",
    "y_pred = clf.predict(X_Test)\n",
    "y_pred_poly = poly.predict(X_Test)\n",
    "print(y_pred)"
   ]
  },
  {
   "cell_type": "code",
   "execution_count": 11,
   "metadata": {},
   "outputs": [
    {
     "name": "stdout",
     "output_type": "stream",
     "text": [
      "Accuracy: 0.1951219512195122\n",
      "Accuracy: 0.1951219512195122\n"
     ]
    }
   ],
   "source": [
    "from sklearn import metrics\n",
    "print(\"Accuracy:\",metrics.accuracy_score(Y_Test , y_pred))\n",
    "print(\"Accuracy:\",metrics.accuracy_score(Y_Test , y_pred_poly))\n"
   ]
  },
  {
   "cell_type": "code",
   "execution_count": 42,
   "metadata": {},
   "outputs": [
    {
     "data": {
      "text/plain": [
       "0       0\n",
       "1       0\n",
       "2       0\n",
       "3       0\n",
       "4       0\n",
       "       ..\n",
       "1301    6\n",
       "1302    6\n",
       "1303    6\n",
       "1304    6\n",
       "1305    6\n",
       "Name: Participant, Length: 1019, dtype: int64"
      ]
     },
     "execution_count": 42,
     "metadata": {},
     "output_type": "execute_result"
    }
   ],
   "source": []
  },
  {
   "cell_type": "code",
   "execution_count": 62,
   "metadata": {},
   "outputs": [],
   "source": [
    "\n",
    "X_Train.dtypes\n",
    "X_Train.drop('Path',axis=1,inplace=True)\n",
    "X_Test.drop('Path',axis=1,inplace=True)"
   ]
  },
  {
   "cell_type": "code",
   "execution_count": 68,
   "metadata": {},
   "outputs": [
    {
     "name": "stdout",
     "output_type": "stream",
     "text": [
      "Accuracy: 0.1951219512195122\n"
     ]
    }
   ],
   "source": [
    "\n",
    "\n",
    "from xgboost import XGBClassifier\n",
    "model = XGBClassifier(tree_method = 'hist',objective='multi:softprob')\n",
    "model.fit(X_Train,Y_Train)\n",
    "y_pred = model.predict(X_Test)\n",
    "Y_Test = Y_Test.astype('int')\n",
    "print(\"Accuracy:\",metrics.accuracy_score(Y_Test , y_pred))\n"
   ]
  }
 ],
 "metadata": {
  "kernelspec": {
   "display_name": "Python 3",
   "language": "python",
   "name": "python3"
  },
  "language_info": {
   "codemirror_mode": {
    "name": "ipython",
    "version": 3
   },
   "file_extension": ".py",
   "mimetype": "text/x-python",
   "name": "python",
   "nbconvert_exporter": "python",
   "pygments_lexer": "ipython3",
   "version": "3.10.12"
  }
 },
 "nbformat": 4,
 "nbformat_minor": 2
}
